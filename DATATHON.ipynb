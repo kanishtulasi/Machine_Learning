{
 "cells": [
  {
   "cell_type": "code",
   "execution_count": 1,
   "id": "6c8fd4b0",
   "metadata": {},
   "outputs": [],
   "source": [
    "import numpy as np\n",
    "import matplotlib.pyplot as plt\n",
    "import pandas as pd"
   ]
  },
  {
   "cell_type": "code",
   "execution_count": 3,
   "id": "567da973",
   "metadata": {},
   "outputs": [],
   "source": [
    "dataset = pd.read_csv('Desktop/datathon.csv', delimiter = ';')"
   ]
  },
  {
   "cell_type": "code",
   "execution_count": 4,
   "id": "c5ab7566",
   "metadata": {},
   "outputs": [
    {
     "data": {
      "text/html": [
       "<div>\n",
       "<style scoped>\n",
       "    .dataframe tbody tr th:only-of-type {\n",
       "        vertical-align: middle;\n",
       "    }\n",
       "\n",
       "    .dataframe tbody tr th {\n",
       "        vertical-align: top;\n",
       "    }\n",
       "\n",
       "    .dataframe thead th {\n",
       "        text-align: right;\n",
       "    }\n",
       "</style>\n",
       "<table border=\"1\" class=\"dataframe\">\n",
       "  <thead>\n",
       "    <tr style=\"text-align: right;\">\n",
       "      <th></th>\n",
       "      <th>ID</th>\n",
       "      <th>Motorway</th>\n",
       "      <th>SR</th>\n",
       "      <th>NR</th>\n",
       "      <th>TR</th>\n",
       "      <th>VR</th>\n",
       "      <th>SUR1</th>\n",
       "      <th>SUR2</th>\n",
       "      <th>SUR3</th>\n",
       "      <th>UR</th>\n",
       "      <th>...</th>\n",
       "      <th>BR</th>\n",
       "      <th>MR</th>\n",
       "      <th>CR</th>\n",
       "      <th>Green Frogs</th>\n",
       "      <th>Brown Frogs</th>\n",
       "      <th>Common Toad</th>\n",
       "      <th>Fire-Bellied Toad</th>\n",
       "      <th>Tree Frog</th>\n",
       "      <th>Common Newt</th>\n",
       "      <th>Great Crested Newt</th>\n",
       "    </tr>\n",
       "  </thead>\n",
       "  <tbody>\n",
       "    <tr>\n",
       "      <th>0</th>\n",
       "      <td>1</td>\n",
       "      <td>A1</td>\n",
       "      <td>82.122666</td>\n",
       "      <td>1.0</td>\n",
       "      <td>1</td>\n",
       "      <td>4</td>\n",
       "      <td>6.0</td>\n",
       "      <td>2</td>\n",
       "      <td>10</td>\n",
       "      <td>0.0</td>\n",
       "      <td>...</td>\n",
       "      <td>0</td>\n",
       "      <td>0</td>\n",
       "      <td>NaN</td>\n",
       "      <td>0</td>\n",
       "      <td>0</td>\n",
       "      <td>0</td>\n",
       "      <td>0</td>\n",
       "      <td>0</td>\n",
       "      <td>0</td>\n",
       "      <td>0</td>\n",
       "    </tr>\n",
       "    <tr>\n",
       "      <th>1</th>\n",
       "      <td>2</td>\n",
       "      <td>A1</td>\n",
       "      <td>-180534.465668</td>\n",
       "      <td>1.0</td>\n",
       "      <td>5</td>\n",
       "      <td>1</td>\n",
       "      <td>10.0</td>\n",
       "      <td>6</td>\n",
       "      <td>10</td>\n",
       "      <td>3.0</td>\n",
       "      <td>...</td>\n",
       "      <td>1</td>\n",
       "      <td>0</td>\n",
       "      <td>1.0</td>\n",
       "      <td>0</td>\n",
       "      <td>1</td>\n",
       "      <td>1</td>\n",
       "      <td>0</td>\n",
       "      <td>0</td>\n",
       "      <td>1</td>\n",
       "      <td>0</td>\n",
       "    </tr>\n",
       "    <tr>\n",
       "      <th>2</th>\n",
       "      <td>3</td>\n",
       "      <td>A1</td>\n",
       "      <td>1193.589181</td>\n",
       "      <td>1.0</td>\n",
       "      <td>5</td>\n",
       "      <td>1</td>\n",
       "      <td>NaN</td>\n",
       "      <td>6</td>\n",
       "      <td>10</td>\n",
       "      <td>3.0</td>\n",
       "      <td>...</td>\n",
       "      <td>1</td>\n",
       "      <td>0</td>\n",
       "      <td>1.0</td>\n",
       "      <td>0</td>\n",
       "      <td>1</td>\n",
       "      <td>1</td>\n",
       "      <td>0</td>\n",
       "      <td>0</td>\n",
       "      <td>1</td>\n",
       "      <td>0</td>\n",
       "    </tr>\n",
       "    <tr>\n",
       "      <th>3</th>\n",
       "      <td>4</td>\n",
       "      <td>A1</td>\n",
       "      <td>629.864146</td>\n",
       "      <td>1.0</td>\n",
       "      <td>5</td>\n",
       "      <td>0</td>\n",
       "      <td>6.0</td>\n",
       "      <td>10</td>\n",
       "      <td>2</td>\n",
       "      <td>3.0</td>\n",
       "      <td>...</td>\n",
       "      <td>0</td>\n",
       "      <td>0</td>\n",
       "      <td>1.0</td>\n",
       "      <td>0</td>\n",
       "      <td>0</td>\n",
       "      <td>1</td>\n",
       "      <td>0</td>\n",
       "      <td>0</td>\n",
       "      <td>0</td>\n",
       "      <td>0</td>\n",
       "    </tr>\n",
       "    <tr>\n",
       "      <th>4</th>\n",
       "      <td>5</td>\n",
       "      <td>A1</td>\n",
       "      <td>-180803.798829</td>\n",
       "      <td>2.0</td>\n",
       "      <td>1</td>\n",
       "      <td>4</td>\n",
       "      <td>NaN</td>\n",
       "      <td>2</td>\n",
       "      <td>6</td>\n",
       "      <td>0.0</td>\n",
       "      <td>...</td>\n",
       "      <td>5</td>\n",
       "      <td>0</td>\n",
       "      <td>1.0</td>\n",
       "      <td>0</td>\n",
       "      <td>1</td>\n",
       "      <td>1</td>\n",
       "      <td>1</td>\n",
       "      <td>0</td>\n",
       "      <td>1</td>\n",
       "      <td>1</td>\n",
       "    </tr>\n",
       "  </tbody>\n",
       "</table>\n",
       "<p>5 rows × 23 columns</p>\n",
       "</div>"
      ],
      "text/plain": [
       "   ID Motorway             SR   NR TR  VR  SUR1  SUR2  SUR3   UR  ... BR  MR  \\\n",
       "0   1       A1      82.122666  1.0  1   4   6.0     2    10  0.0  ...  0   0   \n",
       "1   2       A1 -180534.465668  1.0  5   1  10.0     6    10  3.0  ...  1   0   \n",
       "2   3       A1    1193.589181  1.0  5   1   NaN     6    10  3.0  ...  1   0   \n",
       "3   4       A1     629.864146  1.0  5   0   6.0    10     2  3.0  ...  0   0   \n",
       "4   5       A1 -180803.798829  2.0  1   4   NaN     2     6  0.0  ...  5   0   \n",
       "\n",
       "    CR  Green Frogs Brown Frogs  Common Toad  Fire-Bellied Toad  Tree Frog  \\\n",
       "0  NaN            0           0            0                  0          0   \n",
       "1  1.0            0           1            1                  0          0   \n",
       "2  1.0            0           1            1                  0          0   \n",
       "3  1.0            0           0            1                  0          0   \n",
       "4  1.0            0           1            1                  1          0   \n",
       "\n",
       "   Common Newt  Great Crested Newt  \n",
       "0            0                   0  \n",
       "1            1                   0  \n",
       "2            1                   0  \n",
       "3            0                   0  \n",
       "4            1                   1  \n",
       "\n",
       "[5 rows x 23 columns]"
      ]
     },
     "execution_count": 4,
     "metadata": {},
     "output_type": "execute_result"
    }
   ],
   "source": [
    "dataset.head()"
   ]
  },
  {
   "cell_type": "code",
   "execution_count": 5,
   "id": "cb31d5bd",
   "metadata": {},
   "outputs": [
    {
     "data": {
      "text/plain": [
       "ID                      int64\n",
       "Motorway               object\n",
       "SR                    float64\n",
       "NR                    float64\n",
       "TR                     object\n",
       "VR                      int64\n",
       "SUR1                  float64\n",
       "SUR2                    int64\n",
       "SUR3                    int64\n",
       "UR                    float64\n",
       "FR                     object\n",
       "OR                    float64\n",
       "RR                    float64\n",
       "BR                      int64\n",
       "MR                     object\n",
       "CR                    float64\n",
       "Green Frogs             int64\n",
       "Brown Frogs             int64\n",
       "Common Toad             int64\n",
       "Fire-Bellied Toad       int64\n",
       "Tree Frog               int64\n",
       "Common Newt             int64\n",
       "Great Crested Newt      int64\n",
       "dtype: object"
      ]
     },
     "execution_count": 5,
     "metadata": {},
     "output_type": "execute_result"
    }
   ],
   "source": [
    "dataset.dtypes"
   ]
  },
  {
   "cell_type": "code",
   "execution_count": 6,
   "id": "901a82de",
   "metadata": {},
   "outputs": [
    {
     "data": {
      "text/plain": [
       "array(['A1', 'S52'], dtype=object)"
      ]
     },
     "execution_count": 6,
     "metadata": {},
     "output_type": "execute_result"
    }
   ],
   "source": [
    "dataset['Motorway'].unique()"
   ]
  },
  {
   "cell_type": "code",
   "execution_count": 7,
   "id": "b3ed48e0",
   "metadata": {},
   "outputs": [
    {
     "data": {
      "text/plain": [
       "array(['1', '5', '12', '?', '14', '15', '11', '2', '7'], dtype=object)"
      ]
     },
     "execution_count": 7,
     "metadata": {},
     "output_type": "execute_result"
    }
   ],
   "source": [
    "dataset['TR'].unique()"
   ]
  },
  {
   "cell_type": "code",
   "execution_count": 8,
   "id": "2ca3dfc5",
   "metadata": {},
   "outputs": [
    {
     "data": {
      "text/plain": [
       "array(['0', '1', '4', '2', '3', '?'], dtype=object)"
      ]
     },
     "execution_count": 8,
     "metadata": {},
     "output_type": "execute_result"
    }
   ],
   "source": [
    "dataset['FR'].unique()"
   ]
  },
  {
   "cell_type": "code",
   "execution_count": 9,
   "id": "3b42de8e",
   "metadata": {},
   "outputs": [
    {
     "data": {
      "text/plain": [
       "array(['0', '?', '2', '1'], dtype=object)"
      ]
     },
     "execution_count": 9,
     "metadata": {},
     "output_type": "execute_result"
    }
   ],
   "source": [
    "dataset['MR'].unique()"
   ]
  },
  {
   "cell_type": "code",
   "execution_count": 10,
   "id": "14423340",
   "metadata": {},
   "outputs": [],
   "source": [
    "from sklearn.preprocessing import LabelEncoder\n",
    "le = LabelEncoder()\n",
    "dataset['Motorway'] = le.fit_transform(dataset['Motorway'])"
   ]
  },
  {
   "cell_type": "code",
   "execution_count": 11,
   "id": "6e13fb98",
   "metadata": {},
   "outputs": [
    {
     "data": {
      "text/plain": [
       "array([0, 1])"
      ]
     },
     "execution_count": 11,
     "metadata": {},
     "output_type": "execute_result"
    }
   ],
   "source": [
    "dataset['Motorway'].unique()"
   ]
  },
  {
   "cell_type": "code",
   "execution_count": 12,
   "id": "9340635f",
   "metadata": {},
   "outputs": [],
   "source": [
    "dataset['TR'] = le.fit_transform(dataset['TR'])"
   ]
  },
  {
   "cell_type": "code",
   "execution_count": 13,
   "id": "0a98f626",
   "metadata": {},
   "outputs": [
    {
     "data": {
      "text/plain": [
       "array([0, 6, 2, 8, 3, 4, 1, 5, 7])"
      ]
     },
     "execution_count": 13,
     "metadata": {},
     "output_type": "execute_result"
    }
   ],
   "source": [
    "dataset['TR'].unique()"
   ]
  },
  {
   "cell_type": "code",
   "execution_count": 15,
   "id": "af5b86c4",
   "metadata": {},
   "outputs": [
    {
     "data": {
      "text/plain": [
       "array([0, 3, 2, 1])"
      ]
     },
     "execution_count": 15,
     "metadata": {},
     "output_type": "execute_result"
    }
   ],
   "source": [
    "dataset['MR'] = le.fit_transform(dataset['MR'])\n",
    "dataset['MR'].unique()"
   ]
  },
  {
   "cell_type": "code",
   "execution_count": 16,
   "id": "bfae8374",
   "metadata": {
    "collapsed": true
   },
   "outputs": [
    {
     "data": {
      "text/html": [
       "<div>\n",
       "<style scoped>\n",
       "    .dataframe tbody tr th:only-of-type {\n",
       "        vertical-align: middle;\n",
       "    }\n",
       "\n",
       "    .dataframe tbody tr th {\n",
       "        vertical-align: top;\n",
       "    }\n",
       "\n",
       "    .dataframe thead th {\n",
       "        text-align: right;\n",
       "    }\n",
       "</style>\n",
       "<table border=\"1\" class=\"dataframe\">\n",
       "  <thead>\n",
       "    <tr style=\"text-align: right;\">\n",
       "      <th></th>\n",
       "      <th>ID</th>\n",
       "      <th>Motorway</th>\n",
       "      <th>SR</th>\n",
       "      <th>NR</th>\n",
       "      <th>TR</th>\n",
       "      <th>VR</th>\n",
       "      <th>SUR1</th>\n",
       "      <th>SUR2</th>\n",
       "      <th>SUR3</th>\n",
       "      <th>UR</th>\n",
       "      <th>...</th>\n",
       "      <th>BR</th>\n",
       "      <th>MR</th>\n",
       "      <th>CR</th>\n",
       "      <th>Green Frogs</th>\n",
       "      <th>Brown Frogs</th>\n",
       "      <th>Common Toad</th>\n",
       "      <th>Fire-Bellied Toad</th>\n",
       "      <th>Tree Frog</th>\n",
       "      <th>Common Newt</th>\n",
       "      <th>Great Crested Newt</th>\n",
       "    </tr>\n",
       "  </thead>\n",
       "  <tbody>\n",
       "    <tr>\n",
       "      <th>0</th>\n",
       "      <td>1</td>\n",
       "      <td>0</td>\n",
       "      <td>82.122666</td>\n",
       "      <td>1.0</td>\n",
       "      <td>0</td>\n",
       "      <td>4</td>\n",
       "      <td>6.0</td>\n",
       "      <td>2</td>\n",
       "      <td>10</td>\n",
       "      <td>0.0</td>\n",
       "      <td>...</td>\n",
       "      <td>0</td>\n",
       "      <td>0</td>\n",
       "      <td>NaN</td>\n",
       "      <td>0</td>\n",
       "      <td>0</td>\n",
       "      <td>0</td>\n",
       "      <td>0</td>\n",
       "      <td>0</td>\n",
       "      <td>0</td>\n",
       "      <td>0</td>\n",
       "    </tr>\n",
       "    <tr>\n",
       "      <th>1</th>\n",
       "      <td>2</td>\n",
       "      <td>0</td>\n",
       "      <td>-180534.465668</td>\n",
       "      <td>1.0</td>\n",
       "      <td>6</td>\n",
       "      <td>1</td>\n",
       "      <td>10.0</td>\n",
       "      <td>6</td>\n",
       "      <td>10</td>\n",
       "      <td>3.0</td>\n",
       "      <td>...</td>\n",
       "      <td>1</td>\n",
       "      <td>0</td>\n",
       "      <td>1.0</td>\n",
       "      <td>0</td>\n",
       "      <td>1</td>\n",
       "      <td>1</td>\n",
       "      <td>0</td>\n",
       "      <td>0</td>\n",
       "      <td>1</td>\n",
       "      <td>0</td>\n",
       "    </tr>\n",
       "    <tr>\n",
       "      <th>2</th>\n",
       "      <td>3</td>\n",
       "      <td>0</td>\n",
       "      <td>1193.589181</td>\n",
       "      <td>1.0</td>\n",
       "      <td>6</td>\n",
       "      <td>1</td>\n",
       "      <td>NaN</td>\n",
       "      <td>6</td>\n",
       "      <td>10</td>\n",
       "      <td>3.0</td>\n",
       "      <td>...</td>\n",
       "      <td>1</td>\n",
       "      <td>0</td>\n",
       "      <td>1.0</td>\n",
       "      <td>0</td>\n",
       "      <td>1</td>\n",
       "      <td>1</td>\n",
       "      <td>0</td>\n",
       "      <td>0</td>\n",
       "      <td>1</td>\n",
       "      <td>0</td>\n",
       "    </tr>\n",
       "    <tr>\n",
       "      <th>3</th>\n",
       "      <td>4</td>\n",
       "      <td>0</td>\n",
       "      <td>629.864146</td>\n",
       "      <td>1.0</td>\n",
       "      <td>6</td>\n",
       "      <td>0</td>\n",
       "      <td>6.0</td>\n",
       "      <td>10</td>\n",
       "      <td>2</td>\n",
       "      <td>3.0</td>\n",
       "      <td>...</td>\n",
       "      <td>0</td>\n",
       "      <td>0</td>\n",
       "      <td>1.0</td>\n",
       "      <td>0</td>\n",
       "      <td>0</td>\n",
       "      <td>1</td>\n",
       "      <td>0</td>\n",
       "      <td>0</td>\n",
       "      <td>0</td>\n",
       "      <td>0</td>\n",
       "    </tr>\n",
       "    <tr>\n",
       "      <th>4</th>\n",
       "      <td>5</td>\n",
       "      <td>0</td>\n",
       "      <td>-180803.798829</td>\n",
       "      <td>2.0</td>\n",
       "      <td>0</td>\n",
       "      <td>4</td>\n",
       "      <td>NaN</td>\n",
       "      <td>2</td>\n",
       "      <td>6</td>\n",
       "      <td>0.0</td>\n",
       "      <td>...</td>\n",
       "      <td>5</td>\n",
       "      <td>0</td>\n",
       "      <td>1.0</td>\n",
       "      <td>0</td>\n",
       "      <td>1</td>\n",
       "      <td>1</td>\n",
       "      <td>1</td>\n",
       "      <td>0</td>\n",
       "      <td>1</td>\n",
       "      <td>1</td>\n",
       "    </tr>\n",
       "  </tbody>\n",
       "</table>\n",
       "<p>5 rows × 23 columns</p>\n",
       "</div>"
      ],
      "text/plain": [
       "   ID  Motorway             SR   NR  TR  VR  SUR1  SUR2  SUR3   UR  ... BR  \\\n",
       "0   1         0      82.122666  1.0   0   4   6.0     2    10  0.0  ...  0   \n",
       "1   2         0 -180534.465668  1.0   6   1  10.0     6    10  3.0  ...  1   \n",
       "2   3         0    1193.589181  1.0   6   1   NaN     6    10  3.0  ...  1   \n",
       "3   4         0     629.864146  1.0   6   0   6.0    10     2  3.0  ...  0   \n",
       "4   5         0 -180803.798829  2.0   0   4   NaN     2     6  0.0  ...  5   \n",
       "\n",
       "   MR   CR  Green Frogs  Brown Frogs  Common Toad  Fire-Bellied Toad  \\\n",
       "0   0  NaN            0            0            0                  0   \n",
       "1   0  1.0            0            1            1                  0   \n",
       "2   0  1.0            0            1            1                  0   \n",
       "3   0  1.0            0            0            1                  0   \n",
       "4   0  1.0            0            1            1                  1   \n",
       "\n",
       "   Tree Frog  Common Newt  Great Crested Newt  \n",
       "0          0            0                   0  \n",
       "1          0            1                   0  \n",
       "2          0            1                   0  \n",
       "3          0            0                   0  \n",
       "4          0            1                   1  \n",
       "\n",
       "[5 rows x 23 columns]"
      ]
     },
     "execution_count": 16,
     "metadata": {},
     "output_type": "execute_result"
    }
   ],
   "source": [
    "dataset.head()"
   ]
  },
  {
   "cell_type": "code",
   "execution_count": 18,
   "id": "6eb2e6c4",
   "metadata": {
    "collapsed": true
   },
   "outputs": [
    {
     "name": "stdout",
     "output_type": "stream",
     "text": [
      "      ID  Motorway             SR   NR  TR  VR  SUR1  SUR2  SUR3   UR  ... BR  \\\n",
      "0      1         0      82.122666  1.0   0   4   6.0     2    10  0.0  ...  0   \n",
      "1      2         0 -180534.465668  1.0   6   1  10.0     6    10  3.0  ...  1   \n",
      "2      3         0    1193.589181  1.0   6   1   NaN     6    10  3.0  ...  1   \n",
      "3      4         0     629.864146  1.0   6   0   6.0    10     2  3.0  ...  0   \n",
      "4      5         0 -180803.798829  2.0   0   4   NaN     2     6  0.0  ...  5   \n",
      "..   ...       ...            ...  ...  ..  ..   ...   ...   ...  ...  ... ..   \n",
      "191  192         1  115998.517892  9.0   0   3   2.0     9     6  3.0  ...  0   \n",
      "192  193         0     164.442663  1.0   3   2   1.0     2     7  0.0  ...  1   \n",
      "193  194         1    -866.209002  1.0   2   2  10.0    10     2  0.0  ...  5   \n",
      "194  195         1   27369.210342  3.0   0   2  10.0     6     1  3.0  ...  0   \n",
      "195  196         1     889.098487  1.0   0   4   9.0     2    10  0.0  ...  0   \n",
      "\n",
      "     MR   CR  Green Frogs  Brown Frogs  Common Toad  Fire-Bellied Toad  \\\n",
      "0     0  NaN            0            0            0                  0   \n",
      "1     0  1.0            0            1            1                  0   \n",
      "2     0  1.0            0            1            1                  0   \n",
      "3     0  1.0            0            0            1                  0   \n",
      "4     0  1.0            0            1            1                  1   \n",
      "..   ..  ...          ...          ...          ...                ...   \n",
      "191   0  2.0            3            1            1                  0   \n",
      "192   0  1.0            0            1            1                  0   \n",
      "193   0  1.0            0            1            0                  0   \n",
      "194   0  1.0            1            1            1                  1   \n",
      "195   0  1.0            0            1            0                  1   \n",
      "\n",
      "     Tree Frog  Common Newt  Great Crested Newt  \n",
      "0            0            0                   0  \n",
      "1            0            1                   0  \n",
      "2            0            1                   0  \n",
      "3            0            0                   0  \n",
      "4            0            1                   1  \n",
      "..         ...          ...                 ...  \n",
      "191          2            0                   2  \n",
      "192          0            0                   0  \n",
      "193          0            0                   0  \n",
      "194          1            1                   1  \n",
      "195          0            0                   0  \n",
      "\n",
      "[196 rows x 23 columns]\n"
     ]
    }
   ],
   "source": [
    "print(dataset)"
   ]
  },
  {
   "cell_type": "code",
   "execution_count": 28,
   "id": "61e4ec85",
   "metadata": {},
   "outputs": [],
   "source": [
    "X = dataset.iloc[:, 1:-1].values\n",
    "y = dataset.iloc[:, -1].values"
   ]
  },
  {
   "cell_type": "code",
   "execution_count": 29,
   "id": "cfd3f561",
   "metadata": {},
   "outputs": [
    {
     "data": {
      "text/plain": [
       "ID                      int64\n",
       "Motorway                int64\n",
       "SR                    float64\n",
       "NR                    float64\n",
       "TR                      int64\n",
       "VR                      int64\n",
       "SUR1                  float64\n",
       "SUR2                    int64\n",
       "SUR3                    int64\n",
       "UR                    float64\n",
       "FR                      int64\n",
       "OR                    float64\n",
       "RR                    float64\n",
       "BR                      int64\n",
       "MR                      int64\n",
       "CR                    float64\n",
       "Green Frogs             int64\n",
       "Brown Frogs             int64\n",
       "Common Toad             int64\n",
       "Fire-Bellied Toad       int64\n",
       "Tree Frog               int64\n",
       "Common Newt             int64\n",
       "Great Crested Newt      int64\n",
       "dtype: object"
      ]
     },
     "execution_count": 29,
     "metadata": {},
     "output_type": "execute_result"
    }
   ],
   "source": [
    "dataset.dtypes"
   ]
  },
  {
   "cell_type": "code",
   "execution_count": 30,
   "id": "61271bd2",
   "metadata": {},
   "outputs": [],
   "source": [
    "dataset['FR'] = le.fit_transform(dataset['FR'])"
   ]
  },
  {
   "cell_type": "code",
   "execution_count": 31,
   "id": "6f59aa14",
   "metadata": {},
   "outputs": [
    {
     "data": {
      "text/plain": [
       "ID                      int64\n",
       "Motorway                int64\n",
       "SR                    float64\n",
       "NR                    float64\n",
       "TR                      int64\n",
       "VR                      int64\n",
       "SUR1                  float64\n",
       "SUR2                    int64\n",
       "SUR3                    int64\n",
       "UR                    float64\n",
       "FR                      int64\n",
       "OR                    float64\n",
       "RR                    float64\n",
       "BR                      int64\n",
       "MR                      int64\n",
       "CR                    float64\n",
       "Green Frogs             int64\n",
       "Brown Frogs             int64\n",
       "Common Toad             int64\n",
       "Fire-Bellied Toad       int64\n",
       "Tree Frog               int64\n",
       "Common Newt             int64\n",
       "Great Crested Newt      int64\n",
       "dtype: object"
      ]
     },
     "execution_count": 31,
     "metadata": {},
     "output_type": "execute_result"
    }
   ],
   "source": [
    "dataset.dtypes"
   ]
  },
  {
   "cell_type": "code",
   "execution_count": 33,
   "id": "47f2fd28",
   "metadata": {},
   "outputs": [],
   "source": [
    "from sklearn.impute import SimpleImputer\n",
    "imputer = SimpleImputer(missing_values=np.nan, strategy='mean')\n",
    "imputer.fit(X[:, :])\n",
    "X[:, :] = imputer.transform(X[:, :])"
   ]
  },
  {
   "cell_type": "code",
   "execution_count": 35,
   "id": "7c1118ce",
   "metadata": {},
   "outputs": [],
   "source": [
    "from sklearn.model_selection import train_test_split\n",
    "X_train, X_test, y_train, y_test = train_test_split(X, y, test_size = 0.2, random_state = 0)"
   ]
  },
  {
   "cell_type": "code",
   "execution_count": 36,
   "id": "31a49d01",
   "metadata": {},
   "outputs": [],
   "source": [
    "from sklearn.preprocessing import StandardScaler\n",
    "sc = StandardScaler()\n",
    "X_train = sc.fit_transform(X_train)\n",
    "X_test = sc.transform(X_test)"
   ]
  },
  {
   "cell_type": "code",
   "execution_count": 37,
   "id": "264feded",
   "metadata": {},
   "outputs": [
    {
     "data": {
      "text/plain": [
       "KNeighborsClassifier()"
      ]
     },
     "execution_count": 37,
     "metadata": {},
     "output_type": "execute_result"
    }
   ],
   "source": [
    "from sklearn.neighbors import KNeighborsClassifier\n",
    "classifier = KNeighborsClassifier(n_neighbors = 5, metric = 'minkowski', p = 2)\n",
    "classifier.fit(X_train, y_train)"
   ]
  },
  {
   "cell_type": "code",
   "execution_count": 38,
   "id": "84d7c4e0",
   "metadata": {},
   "outputs": [
    {
     "name": "stdout",
     "output_type": "stream",
     "text": [
      "[[33  1]\n",
      " [ 3  3]]\n"
     ]
    },
    {
     "data": {
      "text/plain": [
       "0.9"
      ]
     },
     "execution_count": 38,
     "metadata": {},
     "output_type": "execute_result"
    }
   ],
   "source": [
    "from sklearn.metrics import confusion_matrix, accuracy_score\n",
    "y_pred = classifier.predict(X_test)\n",
    "cm = confusion_matrix(y_test, y_pred)\n",
    "print(cm)\n",
    "accuracy_score(y_test, y_pred)"
   ]
  },
  {
   "cell_type": "code",
   "execution_count": 39,
   "id": "34dc7c48",
   "metadata": {},
   "outputs": [],
   "source": [
    "from sklearn.model_selection import train_test_split\n",
    "X_trainr, X_testr, y_trainr, y_testr = train_test_split(X, y, test_size = 0.2, random_state = 0)"
   ]
  },
  {
   "cell_type": "code",
   "execution_count": 40,
   "id": "0345131b",
   "metadata": {},
   "outputs": [],
   "source": [
    "from sklearn.preprocessing import StandardScaler\n",
    "sc = StandardScaler()\n",
    "X_trainr = sc.fit_transform(X_trainr)\n",
    "X_testr = sc.transform(X_testr)"
   ]
  },
  {
   "cell_type": "code",
   "execution_count": 41,
   "id": "97c8c10c",
   "metadata": {},
   "outputs": [
    {
     "data": {
      "text/plain": [
       "RandomForestClassifier(criterion='entropy', n_estimators=10, random_state=0)"
      ]
     },
     "execution_count": 41,
     "metadata": {},
     "output_type": "execute_result"
    }
   ],
   "source": [
    "from sklearn.ensemble import RandomForestClassifier\n",
    "classifier = RandomForestClassifier(n_estimators = 10, criterion = 'entropy', random_state = 0)\n",
    "classifier.fit(X_trainr, y_trainr)"
   ]
  },
  {
   "cell_type": "code",
   "execution_count": 42,
   "id": "a8ddaa0a",
   "metadata": {},
   "outputs": [
    {
     "name": "stdout",
     "output_type": "stream",
     "text": [
      "[[33  1]\n",
      " [ 6  0]]\n"
     ]
    },
    {
     "data": {
      "text/plain": [
       "0.825"
      ]
     },
     "execution_count": 42,
     "metadata": {},
     "output_type": "execute_result"
    }
   ],
   "source": [
    "from sklearn.metrics import confusion_matrix, accuracy_score\n",
    "y_predr = classifier.predict(X_test)\n",
    "cm = confusion_matrix(y_testr, y_predr)\n",
    "print(cm)\n",
    "accuracy_score(y_testr, y_predr)"
   ]
  },
  {
   "cell_type": "code",
   "execution_count": 43,
   "id": "e121dd23",
   "metadata": {},
   "outputs": [
    {
     "name": "stderr",
     "output_type": "stream",
     "text": [
      "2022-09-22 17:21:49.995600: I tensorflow/core/util/util.cc:169] oneDNN custom operations are on. You may see slightly different numerical results due to floating-point round-off errors from different computation orders. To turn them off, set the environment variable `TF_ENABLE_ONEDNN_OPTS=0`.\n",
      "2022-09-22 17:21:50.054271: W tensorflow/stream_executor/platform/default/dso_loader.cc:64] Could not load dynamic library 'libcudart.so.11.0'; dlerror: libcudart.so.11.0: cannot open shared object file: No such file or directory\n",
      "2022-09-22 17:21:50.054285: I tensorflow/stream_executor/cuda/cudart_stub.cc:29] Ignore above cudart dlerror if you do not have a GPU set up on your machine.\n"
     ]
    }
   ],
   "source": [
    "import tensorflow as tf"
   ]
  },
  {
   "cell_type": "code",
   "execution_count": 44,
   "id": "993f3a5c",
   "metadata": {},
   "outputs": [],
   "source": [
    "from sklearn.model_selection import train_test_split\n",
    "X_train1, X_test1, y_train1, y_test1 = train_test_split(X, y, test_size = 0.2, random_state = 0)"
   ]
  },
  {
   "cell_type": "code",
   "execution_count": 45,
   "id": "63f9530c",
   "metadata": {},
   "outputs": [],
   "source": [
    "from sklearn.preprocessing import StandardScaler\n",
    "sc = StandardScaler()\n",
    "X_train1 = sc.fit_transform(X_train1)\n",
    "X_test1 = sc.transform(X_test1)"
   ]
  },
  {
   "cell_type": "code",
   "execution_count": 61,
   "id": "4a25d735",
   "metadata": {},
   "outputs": [],
   "source": [
    "ann = tf.keras.models.Sequential()\n",
    "ann.add(tf.keras.layers.Dense(units=3, activation='relu'))\n",
    "ann.add(tf.keras.layers.Dense(units=6, activation='relu'))\n",
    "ann.add(tf.keras.layers.Dense(units=1, activation='sigmoid'))"
   ]
  },
  {
   "cell_type": "code",
   "execution_count": 62,
   "id": "1f109b23",
   "metadata": {},
   "outputs": [],
   "source": [
    "ann.compile(optimizer = 'adam', loss = 'binary_crossentropy', metrics = ['accuracy'])"
   ]
  },
  {
   "cell_type": "code",
   "execution_count": 63,
   "id": "1634564b",
   "metadata": {},
   "outputs": [
    {
     "name": "stdout",
     "output_type": "stream",
     "text": [
      "Epoch 1/30\n",
      "5/5 [==============================] - 0s 1ms/step - loss: 0.5875 - accuracy: 0.8846\n",
      "Epoch 2/30\n",
      "5/5 [==============================] - 0s 1ms/step - loss: 0.5781 - accuracy: 0.8846\n",
      "Epoch 3/30\n",
      "5/5 [==============================] - 0s 973us/step - loss: 0.5692 - accuracy: 0.8846\n",
      "Epoch 4/30\n",
      "5/5 [==============================] - 0s 1ms/step - loss: 0.5603 - accuracy: 0.8846\n",
      "Epoch 5/30\n",
      "5/5 [==============================] - 0s 979us/step - loss: 0.5518 - accuracy: 0.8846\n",
      "Epoch 6/30\n",
      "5/5 [==============================] - 0s 1ms/step - loss: 0.5437 - accuracy: 0.8846\n",
      "Epoch 7/30\n",
      "5/5 [==============================] - 0s 1ms/step - loss: 0.5351 - accuracy: 0.8846\n",
      "Epoch 8/30\n",
      "5/5 [==============================] - 0s 1ms/step - loss: 0.5271 - accuracy: 0.8846\n",
      "Epoch 9/30\n",
      "5/5 [==============================] - 0s 1ms/step - loss: 0.5188 - accuracy: 0.8846\n",
      "Epoch 10/30\n",
      "5/5 [==============================] - 0s 981us/step - loss: 0.5110 - accuracy: 0.8846\n",
      "Epoch 11/30\n",
      "5/5 [==============================] - 0s 1ms/step - loss: 0.5029 - accuracy: 0.8846\n",
      "Epoch 12/30\n",
      "5/5 [==============================] - 0s 785us/step - loss: 0.4948 - accuracy: 0.8846\n",
      "Epoch 13/30\n",
      "5/5 [==============================] - 0s 1ms/step - loss: 0.4868 - accuracy: 0.8846\n",
      "Epoch 14/30\n",
      "5/5 [==============================] - 0s 845us/step - loss: 0.4794 - accuracy: 0.8846\n",
      "Epoch 15/30\n",
      "5/5 [==============================] - 0s 789us/step - loss: 0.4717 - accuracy: 0.8846\n",
      "Epoch 16/30\n",
      "5/5 [==============================] - 0s 932us/step - loss: 0.4643 - accuracy: 0.8846\n",
      "Epoch 17/30\n",
      "5/5 [==============================] - 0s 829us/step - loss: 0.4569 - accuracy: 0.8846\n",
      "Epoch 18/30\n",
      "5/5 [==============================] - 0s 1ms/step - loss: 0.4497 - accuracy: 0.8846\n",
      "Epoch 19/30\n",
      "5/5 [==============================] - 0s 1ms/step - loss: 0.4432 - accuracy: 0.8846\n",
      "Epoch 20/30\n",
      "5/5 [==============================] - 0s 878us/step - loss: 0.4370 - accuracy: 0.8846\n",
      "Epoch 21/30\n",
      "5/5 [==============================] - 0s 966us/step - loss: 0.4307 - accuracy: 0.8846\n",
      "Epoch 22/30\n",
      "5/5 [==============================] - 0s 809us/step - loss: 0.4247 - accuracy: 0.8846\n",
      "Epoch 23/30\n",
      "5/5 [==============================] - 0s 808us/step - loss: 0.4184 - accuracy: 0.8846\n",
      "Epoch 24/30\n",
      "5/5 [==============================] - 0s 826us/step - loss: 0.4134 - accuracy: 0.8846\n",
      "Epoch 25/30\n",
      "5/5 [==============================] - 0s 1ms/step - loss: 0.4079 - accuracy: 0.8846\n",
      "Epoch 26/30\n",
      "5/5 [==============================] - 0s 864us/step - loss: 0.4026 - accuracy: 0.8846\n",
      "Epoch 27/30\n",
      "5/5 [==============================] - 0s 941us/step - loss: 0.3977 - accuracy: 0.8846\n",
      "Epoch 28/30\n",
      "5/5 [==============================] - 0s 759us/step - loss: 0.3930 - accuracy: 0.8846\n",
      "Epoch 29/30\n",
      "5/5 [==============================] - 0s 867us/step - loss: 0.3886 - accuracy: 0.8846\n",
      "Epoch 30/30\n",
      "5/5 [==============================] - 0s 770us/step - loss: 0.3844 - accuracy: 0.8846\n"
     ]
    },
    {
     "data": {
      "text/plain": [
       "<keras.callbacks.History at 0x7f1046734790>"
      ]
     },
     "execution_count": 63,
     "metadata": {},
     "output_type": "execute_result"
    }
   ],
   "source": [
    "ann.fit(X_train, y_train, batch_size = 32, epochs = 30)"
   ]
  },
  {
   "cell_type": "code",
   "execution_count": 64,
   "id": "ab014c1a",
   "metadata": {},
   "outputs": [
    {
     "name": "stdout",
     "output_type": "stream",
     "text": [
      "2/2 [==============================] - 0s 2ms/step\n",
      "[[0 0]\n",
      " [0 0]\n",
      " [0 0]\n",
      " [0 0]\n",
      " [0 0]\n",
      " [0 0]\n",
      " [0 0]\n",
      " [0 0]\n",
      " [0 0]\n",
      " [0 0]\n",
      " [0 0]\n",
      " [0 0]\n",
      " [0 0]\n",
      " [0 0]\n",
      " [0 1]\n",
      " [0 0]\n",
      " [0 0]\n",
      " [0 0]\n",
      " [0 0]\n",
      " [0 0]\n",
      " [0 0]\n",
      " [0 1]\n",
      " [0 0]\n",
      " [0 0]\n",
      " [0 0]\n",
      " [0 0]\n",
      " [0 1]\n",
      " [0 0]\n",
      " [0 0]\n",
      " [0 0]\n",
      " [0 0]\n",
      " [0 0]\n",
      " [0 0]\n",
      " [0 1]\n",
      " [0 1]\n",
      " [0 1]\n",
      " [0 0]\n",
      " [0 0]\n",
      " [0 0]\n",
      " [0 0]]\n"
     ]
    }
   ],
   "source": [
    "y_pred = ann.predict(X_test)\n",
    "y_pred = (y_pred > 0.5)\n",
    "print(np.concatenate((y_pred.reshape(len(y_pred),1), y_test.reshape(len(y_test),1)),1))"
   ]
  },
  {
   "cell_type": "code",
   "execution_count": 65,
   "id": "b616d489",
   "metadata": {},
   "outputs": [
    {
     "name": "stdout",
     "output_type": "stream",
     "text": [
      "[[34  0]\n",
      " [ 6  0]]\n"
     ]
    },
    {
     "data": {
      "text/plain": [
       "0.85"
      ]
     },
     "execution_count": 65,
     "metadata": {},
     "output_type": "execute_result"
    }
   ],
   "source": [
    "from sklearn.metrics import confusion_matrix, accuracy_score\n",
    "cm = confusion_matrix(y_test, y_pred)\n",
    "print(cm)\n",
    "accuracy_score(y_test, y_pred)"
   ]
  },
  {
   "cell_type": "code",
   "execution_count": 66,
   "id": "65d2d83f",
   "metadata": {},
   "outputs": [],
   "source": [
    "from sklearn.model_selection import train_test_split\n",
    "X_train2, X_test2, y_train2, y_test2 = train_test_split(X, y, test_size = 0.2, random_state = 0)"
   ]
  },
  {
   "cell_type": "code",
   "execution_count": 69,
   "id": "4c918297",
   "metadata": {},
   "outputs": [],
   "source": [
    "from sklearn.preprocessing import StandardScaler\n",
    "sc = StandardScaler()\n",
    "X_train2 = sc.fit_transform(X_train2)\n",
    "X_test2 = sc.transform(X_test2)"
   ]
  },
  {
   "cell_type": "code",
   "execution_count": 70,
   "id": "79348ea3",
   "metadata": {},
   "outputs": [
    {
     "data": {
      "text/plain": [
       "XGBClassifier(base_score=0.5, booster='gbtree', callbacks=None,\n",
       "              colsample_bylevel=1, colsample_bynode=1, colsample_bytree=1,\n",
       "              early_stopping_rounds=None, enable_categorical=False,\n",
       "              eval_metric=None, gamma=0, gpu_id=-1, grow_policy='depthwise',\n",
       "              importance_type=None, interaction_constraints='',\n",
       "              learning_rate=0.300000012, max_bin=256, max_cat_to_onehot=4,\n",
       "              max_delta_step=0, max_depth=6, max_leaves=0, min_child_weight=1,\n",
       "              missing=nan, monotone_constraints='()', n_estimators=100,\n",
       "              n_jobs=0, num_parallel_tree=1, objective='multi:softprob',\n",
       "              predictor='auto', random_state=0, reg_alpha=0, ...)"
      ]
     },
     "execution_count": 70,
     "metadata": {},
     "output_type": "execute_result"
    }
   ],
   "source": [
    "from xgboost import XGBClassifier\n",
    "classifier = XGBClassifier()\n",
    "classifier.fit(X_train2, y_train2)"
   ]
  },
  {
   "cell_type": "code",
   "execution_count": 74,
   "id": "b5a47c74",
   "metadata": {},
   "outputs": [
    {
     "name": "stdout",
     "output_type": "stream",
     "text": [
      "[[32  2]\n",
      " [ 5  1]]\n"
     ]
    },
    {
     "data": {
      "text/plain": [
       "0.825"
      ]
     },
     "execution_count": 74,
     "metadata": {},
     "output_type": "execute_result"
    }
   ],
   "source": [
    "from sklearn.metrics import confusion_matrix, accuracy_score\n",
    "y_pred = classifier.predict(X_test2)\n",
    "cm = confusion_matrix(y_test2, y_pred)\n",
    "print(cm)\n",
    "accuracy_score(y_test2, y_pred)"
   ]
  },
  {
   "cell_type": "code",
   "execution_count": null,
   "id": "5dcb47f8",
   "metadata": {},
   "outputs": [],
   "source": []
  }
 ],
 "metadata": {
  "kernelspec": {
   "display_name": "Python 3 (ipykernel)",
   "language": "python",
   "name": "python3"
  },
  "language_info": {
   "codemirror_mode": {
    "name": "ipython",
    "version": 3
   },
   "file_extension": ".py",
   "mimetype": "text/x-python",
   "name": "python",
   "nbconvert_exporter": "python",
   "pygments_lexer": "ipython3",
   "version": "3.9.12"
  }
 },
 "nbformat": 4,
 "nbformat_minor": 5
}
